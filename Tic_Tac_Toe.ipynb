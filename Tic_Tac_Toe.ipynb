{
 "cells": [
  {
   "cell_type": "code",
   "execution_count": 1,
   "metadata": {},
   "outputs": [],
   "source": [
    "def assign_marker():\n",
    "    marker='0'\n",
    "    while marker not in ['X','O']:\n",
    "        marker = input('Player 1: Enter your choice: X or O: ').upper()\n",
    "    if marker == 'X':\n",
    "        return('X','O') \n",
    "    else:\n",
    "        return('O','X')"
   ]
  },
  {
   "cell_type": "code",
   "execution_count": 2,
   "metadata": {},
   "outputs": [],
   "source": [
    "def print_board(board):\n",
    "    from IPython.display import clear_output\n",
    "    clear_output()\n",
    "\n",
    "    print('|  ' + board[1] + '  |  ' + board[2] + '  |  ' + board[3] + '  |')\n",
    "    print('|--' + '---|--' + '---|--' + '---|')\n",
    "    print('|  ' + board[4] + '  |  ' + board[5] + '  |  ' + board[6] + '  |')\n",
    "    print('|--' + '---|--' + '---|--' + '---|')\n",
    "    print('|  ' + board[7] + '  |  ' + board[8] + '  |  ' + board[9] + '  |')\n",
    "    \n",
    "#input_board = ['#','1','2','3','4','5','6','7','8','9']\n"
   ]
  },
  {
   "cell_type": "code",
   "execution_count": 3,
   "metadata": {},
   "outputs": [],
   "source": [
    "import random\n",
    "def choose_first(player1_marker,player2_marker):\n",
    "    first = random.randint(1,2)\n",
    "    if first == 1:\n",
    "        return player1_marker\n",
    "    else:\n",
    "        return player2_marker\n"
   ]
  },
  {
   "cell_type": "code",
   "execution_count": 4,
   "metadata": {},
   "outputs": [],
   "source": [
    "def input_index():\n",
    "    position = 0\n",
    "    \n",
    "    while position not in range(1,10) or not position: \n",
    "        position=int(input('Enter the position: '))\n",
    "    return position\n"
   ]
  },
  {
   "cell_type": "code",
   "execution_count": 5,
   "metadata": {},
   "outputs": [],
   "source": [
    "def replace_board(position,mark,input_board):\n",
    "    if input_board[position] not in ['X','O']:\n",
    "        input_board[position] = mark\n",
    "        print_board(input_board)\n",
    "    else:\n",
    "        position = input_index()\n",
    "        replace_board(position,mark,input_board)"
   ]
  },
  {
   "cell_type": "code",
   "execution_count": 6,
   "metadata": {},
   "outputs": [],
   "source": [
    "def win_check(mark,input_board):\n",
    "    return (input_board[1]==mark and input_board[2]==mark and input_board[3]==mark) or (input_board[4]==mark and input_board[5]==mark and input_board[6]==mark) or (input_board[7]==mark and input_board[8]==mark and input_board[9]==mark) or (input_board[1]==mark and input_board[4]==mark and input_board[7]==mark) or (input_board[2]==mark and input_board[5]==mark and input_board[8]==mark) or (input_board[3]==mark and input_board[6]==mark and input_board[9]==mark) or (input_board[1]==mark and input_board[5]==mark and input_board[9]==mark) or (input_board[3]==mark and input_board[5]==mark and input_board[7]==mark)\n"
   ]
  },
  {
   "cell_type": "code",
   "execution_count": 7,
   "metadata": {},
   "outputs": [],
   "source": [
    "def mark_changer(win,mark):\n",
    "    if mark=='X':\n",
    "        return 'O'\n",
    "    else:\n",
    "        return 'X'"
   ]
  },
  {
   "cell_type": "code",
   "execution_count": 8,
   "metadata": {},
   "outputs": [],
   "source": [
    "def display_result(win,mark):\n",
    "    if win==True and mark=='X':\n",
    "        print('O wins')\n",
    "    elif win==True and mark=='O':\n",
    "        print('X wins' )\n",
    "    else:\n",
    "        print('Game is a draw')"
   ]
  },
  {
   "cell_type": "code",
   "execution_count": null,
   "metadata": {},
   "outputs": [],
   "source": [
    "def play():\n",
    "    print('Welcome!')\n",
    "\n",
    "    player1_marker,player2_marker = assign_marker()\n",
    "\n",
    "    \n",
    "    input_board = ['#','1','2','3','4','5','6','7','8','9']\n",
    "    print_board(input_board)\n",
    "\n",
    "    mark = choose_first(player1_marker,player2_marker)\n",
    "\n",
    "    if mark == player1_marker:\n",
    "        print('Player1 plays first')\n",
    "    else:\n",
    "        print('Player2 plays first')\n",
    "    \n",
    "\n",
    "    win = False\n",
    "\n",
    "\n",
    "    while win == False and len(set(input_board))>3:\n",
    "\n",
    "        position = input_index()\n",
    "\n",
    "        replace_board(position,mark,input_board)\n",
    "\n",
    "        win = win_check(mark,input_board)\n",
    "\n",
    "        mark = mark_changer(win,mark)\n",
    "    \n",
    "    \n",
    "    \n",
    "            \n",
    "\n",
    "    display_result(win,mark)\n",
    "    \n",
    "    ans = '0'\n",
    "    while ans != 'yes' and ans != 'no':\n",
    "        print('Would you like to play again?')\n",
    "        ans = str(input()).lower()\n",
    "    \n",
    "    if ans == 'yes':\n",
    "        input_board = ['#','1','2','3','4','5','6','7','8','9']\n",
    "        play()\n",
    "    else:\n",
    "        print('Thankyou for playing')\n",
    "    \n",
    "\n",
    "\n"
   ]
  },
  {
   "cell_type": "code",
   "execution_count": null,
   "metadata": {},
   "outputs": [
    {
     "name": "stdout",
     "output_type": "stream",
     "text": [
      "|  X  |  O  |  X  |\n",
      "|-----|-----|-----|\n",
      "|  X  |  O  |  O  |\n",
      "|-----|-----|-----|\n",
      "|  O  |  X  |  X  |\n",
      "Game is a draw\n",
      "Would you like to play again?\n",
      "no\n",
      "Thankyou for playing\n"
     ]
    }
   ],
   "source": [
    "print('Welcome!')\n",
    "print('Are you ready to play')\n",
    "play()"
   ]
  },
  {
   "cell_type": "code",
   "execution_count": null,
   "metadata": {},
   "outputs": [],
   "source": []
  }
 ],
 "metadata": {
  "kernelspec": {
   "display_name": "Python 3",
   "language": "python",
   "name": "python3"
  },
  "language_info": {
   "codemirror_mode": {
    "name": "ipython",
    "version": 3
   },
   "file_extension": ".py",
   "mimetype": "text/x-python",
   "name": "python",
   "nbconvert_exporter": "python",
   "pygments_lexer": "ipython3",
   "version": "3.7.3"
  }
 },
 "nbformat": 4,
 "nbformat_minor": 2
}
